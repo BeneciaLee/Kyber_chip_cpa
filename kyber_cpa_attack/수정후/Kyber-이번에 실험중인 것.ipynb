{
 "cells": [
  {
   "cell_type": "code",
   "execution_count": null,
   "id": "97b34242",
   "metadata": {},
   "outputs": [],
   "source": [
    "import numpy as np\n",
    "import cupy as cp\n",
    "import matplotlib.pyplot as plt"
   ]
  },
  {
   "cell_type": "code",
   "execution_count": null,
   "id": "c62320f7",
   "metadata": {},
   "outputs": [],
   "source": [
    "f = open(\"a_b_zeta.txt\", \"r\")\n",
    "lines = f.readlines()"
   ]
  },
  {
   "cell_type": "code",
   "execution_count": null,
   "id": "57a5aa77",
   "metadata": {},
   "outputs": [],
   "source": [
    "# 비밀키\n",
    "a = [ ]\n",
    "\n",
    "# 암호문\n",
    "b = []\n",
    "\n",
    "# zeta\n",
    "zeta = []\n",
    "\n",
    "for line in lines:\n",
    "    temp = []\n",
    "    for i, value in enumerate(line.split(' ')):\n",
    "        if i<4:\n",
    "            # a 값을 저장\n",
    "            temp.append(value)\n",
    "            if i == 3:\n",
    "                a.append(temp)\n",
    "                temp = []\n",
    "        elif i<8:\n",
    "            # b 값을 저장\n",
    "            temp.append(value)\n",
    "            if i == 7:\n",
    "                b.append(temp)\n",
    "                temp = []\n",
    "        else:\n",
    "            # zeta 값을 저장\n",
    "            temp.append(value)\n",
    "            if i == 9:\n",
    "                zeta.append(temp)\n",
    "                temp = []"
   ]
  },
  {
   "cell_type": "code",
   "execution_count": null,
   "id": "612a4865",
   "metadata": {},
   "outputs": [],
   "source": [
    "a = np.array(a)\n",
    "b = np.array(b)\n",
    "zeta = np.array(zeta)"
   ]
  },
  {
   "cell_type": "code",
   "execution_count": null,
   "id": "e1436657",
   "metadata": {},
   "outputs": [],
   "source": [
    "print(a.shape)\n",
    "print(b.shape)"
   ]
  },
  {
   "cell_type": "code",
   "execution_count": null,
   "id": "fc66c96f",
   "metadata": {},
   "outputs": [],
   "source": [
    "temp = []\n",
    "\n",
    "for i in range(a.shape[0]):\n",
    "    temp_a = []\n",
    "    for index, value in enumerate(a[i]):\n",
    "        if index < 2:\n",
    "            if index == 0:\n",
    "                a_1 = np.int16(0)\n",
    "                a_1 += (np.int16(int(value, 16))<<8)\n",
    "            else:\n",
    "                a_1 += (np.int16(int(value, 16)))\n",
    "                temp_a.append(a_1)\n",
    "        else:\n",
    "            if index == 2:\n",
    "                a_2 = np.int16(0)\n",
    "                a_2 += (np.int16(int(value, 16))<<8)\n",
    "            else:\n",
    "                a_2 += (np.int16(int(value, 16)))\n",
    "                temp_a.append(a_2)\n",
    "    temp.append(temp_a)\n",
    "\n",
    "a = np.array(temp, dtype = 'int16')\n",
    "a.shape"
   ]
  },
  {
   "cell_type": "code",
   "execution_count": null,
   "id": "5ea1057f",
   "metadata": {},
   "outputs": [],
   "source": [
    "temp = []\n",
    "\n",
    "for i in range(b.shape[0]):\n",
    "    temp_b = []\n",
    "    for index, value in enumerate(b[i]):\n",
    "        if index < 2:\n",
    "            if index == 0:\n",
    "                b_1 = np.int16(0)\n",
    "                b_1 += (np.int16(int(value, 16))<<8)\n",
    "            else:\n",
    "                b_1 += (np.int16(int(value, 16)))\n",
    "                temp_b.append(b_1)\n",
    "        else:\n",
    "            if index == 2:\n",
    "                b_2 = np.int16(0)\n",
    "                b_2 += (np.int16(int(value, 16))<<8)\n",
    "            else:\n",
    "                b_2 += (np.int16(int(value, 16)))\n",
    "                temp_b.append(b_2)\n",
    "    temp.append(temp_b)\n",
    "b = np.array(temp, dtype = 'int16')\n",
    "b.shape"
   ]
  },
  {
   "cell_type": "code",
   "execution_count": null,
   "id": "ff441870",
   "metadata": {},
   "outputs": [],
   "source": [
    "temp = []\n",
    "\n",
    "for i in range(zeta.shape[0]):\n",
    "    temp_b = []\n",
    "    for index, value in enumerate(zeta[i]):\n",
    "        if index < 2:\n",
    "            if index == 0:\n",
    "                b_1 = np.int16(0)\n",
    "                b_1 += (np.int16(int(value, 16))<<8)\n",
    "            else:\n",
    "                b_1 += (np.int16(int(value, 16)))\n",
    "                temp_b.append(b_1)\n",
    "        else:\n",
    "            if index == 2:\n",
    "                b_2 = np.int16(0)\n",
    "                b_2 += (np.int16(int(value, 16))<<8)\n",
    "            else:\n",
    "                b_2 += (np.int16(int(value, 16)))\n",
    "                temp_b.append(b_2)\n",
    "    temp.append(temp_b)\n",
    "zeta = np.array(temp, dtype = 'int16')\n",
    "zeta.shape"
   ]
  },
  {
   "cell_type": "code",
   "execution_count": null,
   "id": "03433af5",
   "metadata": {},
   "outputs": [],
   "source": [
    "def montgomery_reduce(a):\n",
    "    # print(a)\n",
    "    t = np.int16(0)\n",
    "    # print(\"a type\", type(a))\n",
    "    # print(\"int16_t a \", np.int16(a))\n",
    "    t = np.int16(a) * np.int16(-3327)\n",
    "    # print(\"(int16_t)a * QINV  %d\" % t)\n",
    "    # print(\"(int32_t)t*KYBER_Q %d\" % (np.int32(t) * np.int32(3329)))\n",
    "    t1 = np.int32(t) * np.int32(3329)\n",
    "    # print(\"(a - (int32_t)t*KYBER_Q) %d\" %(np.int32(a) - t1))\n",
    "    t = ((np.int32(a)-(np.int32(t) * np.int32(3329))) >> 16)\n",
    "    t = np.int16(t)\n",
    "    # print(\"t %d\" %t)\n",
    "    return t\n",
    "\n",
    "def fqmul(a, b):\n",
    "    # print(type(a))\n",
    "    # print(\"a * b = \", np.int32(a) * np.int32(b))\n",
    "    return montgomery_reduce(np.int32(a) * np.int32(b))\n",
    "\n",
    "# a = 키\n",
    "# b = 암호문\n",
    "def basemul(a, b, zeta):\n",
    "    r = np.array([0, 0], dtype = 'int16')\n",
    "    r[0]  = fqmul(np.int16(a[1]), np.int16(b[1]));\n",
    "    return r[0]\n",
    "    r[0]  = fqmul(r[0], zeta);\n",
    "    r[0] += fqmul(a[0], b[0]);\n",
    "    r[1]  = fqmul(a[0], b[1]);\n",
    "    r[1] += fqmul(a[1], b[0]);\n",
    "    return r"
   ]
  },
  {
   "cell_type": "code",
   "execution_count": null,
   "id": "8c7426de",
   "metadata": {},
   "outputs": [],
   "source": [
    "def haming_weight(number):\n",
    "    cnt = 0\n",
    "    check = 0x1\n",
    "    for _ in range(16):\n",
    "        if (number & check):\n",
    "            cnt +=1\n",
    "            check = (check << 1)\n",
    "        else:\n",
    "            check = (check << 1)\n",
    "    return cnt\n",
    "\n",
    "# hw = np.zeros(shape=(0xFFFF,5000))\n",
    "\n",
    "# # i가 키다\n",
    "# for i in tqdm(range(0xFFFF)):\n",
    "#     # j가 평문의 개수\n",
    "#     for j in range(5000):\n",
    "#         hw[i][j] = haming_weight(result[i][j])"
   ]
  },
  {
   "cell_type": "code",
   "execution_count": null,
   "id": "cb5ce4d9",
   "metadata": {},
   "outputs": [],
   "source": [
    "# def basemul(a, b, zeta):\n",
    "#     r = np.array([0, 0], dtype = 'int16')\n",
    "#     r[0]  = fqmul(np.int16(a[1]), np.int16(b[1]));\n",
    "#     return r[0]\n",
    "#     r[0]  = fqmul(r[0], zeta);\n",
    "#     r[0] += fqmul(a[0], b[0]);\n",
    "#     r[1]  = fqmul(a[0], b[1]);\n",
    "#     r[1] += fqmul(a[1], b[0]);\n",
    "#     return r\n",
    "\n",
    "def fast_fqmul(key, b):\n",
    "    # r[0] 구하는 단계\n",
    "    key = np.int16(key)\n",
    "    b = np.int16(b)\n",
    "    t2 = np.int32(key) * np.int32(b)\n",
    "    t3 = np.int16(t2) * np.int16(-3327)\n",
    "    t4 = np.int32(t3) * np.int32(3329)\n",
    "    t5 = ((np.int32(t2) - (np.int32(t3) * np.int32(3329))) >> 16)\n",
    "    t5 = np.int16(t5)\n",
    "    return t5\n"
   ]
  },
  {
   "cell_type": "code",
   "execution_count": null,
   "id": "fb8022c6",
   "metadata": {},
   "outputs": [],
   "source": [
    "from tqdm.notebook import tqdm \n",
    "\n",
    "# b = b[:10000]\n",
    "\n",
    "# t2 = cp.int32()\n",
    "result = np.int16(np.zeros(shape=(0xFFFF,100000)))\n",
    "vf = np.vectorize(haming_weight)\n",
    "b_1 = np.array(b[:100000, 1])\n",
    "\n",
    "for key in tqdm(range(0xFFFF)):\n",
    "    t2 = np.int32(key) * np.int32(b_1)\n",
    "    t3 = np.int16(t2) * np.int16(-3327)\n",
    "    t4 = np.int32(t3) * np.int32(3329)\n",
    "    t5 = ((np.int32(t2) - (np.int32(t3) * np.int32(3329))) >> 16)\n",
    "    t5 = np.int16(t5)\n",
    "    result[key] = t5"
   ]
  },
  {
   "cell_type": "code",
   "execution_count": null,
   "id": "e8d637ae",
   "metadata": {},
   "outputs": [],
   "source": [
    "import torch\n",
    "torch.cuda.empty_cache()"
   ]
  },
  {
   "cell_type": "code",
   "execution_count": null,
   "id": "2384dab5",
   "metadata": {},
   "outputs": [],
   "source": [
    "vf = cp.vectorize(haming_weight)\n",
    "# re = cp.array(result[:,:5000])\n",
    "# hw = vf(re)"
   ]
  },
  {
   "cell_type": "code",
   "execution_count": null,
   "id": "bc740cd6",
   "metadata": {},
   "outputs": [],
   "source": [
    "result.shape"
   ]
  },
  {
   "cell_type": "code",
   "execution_count": null,
   "id": "016cf5a5",
   "metadata": {},
   "outputs": [],
   "source": [
    "hw = np.zeros(shape=(0xFFFF, 100000), dtype = np.int8)\n",
    "for i in tqdm(range(20)):\n",
    "    re = cp.array(result[:,i*5000:i*5000+5000])\n",
    "    hw[:, i*5000:i*5000+5000] = vf(re).get()"
   ]
  },
  {
   "cell_type": "code",
   "execution_count": null,
   "id": "de0b7921",
   "metadata": {},
   "outputs": [],
   "source": [
    "traces = np.load(\"traces.npy\")"
   ]
  },
  {
   "cell_type": "code",
   "execution_count": null,
   "id": "70448890",
   "metadata": {},
   "outputs": [],
   "source": [
    "hw_t = hw.T"
   ]
  },
  {
   "cell_type": "code",
   "execution_count": null,
   "id": "cf1c376c",
   "metadata": {},
   "outputs": [],
   "source": [
    "print(traces.shape)\n",
    "print(hw.shape)\n",
    "print(hw_t.shape)"
   ]
  },
  {
   "cell_type": "code",
   "execution_count": null,
   "id": "eb66705c",
   "metadata": {},
   "outputs": [],
   "source": [
    "cor_result = []\n",
    "limit = 100000\n",
    "key_limit = 0xFFFF\n",
    "for key in tqdm(range(0,key_limit,1000)):\n",
    "    if key != 65000:\n",
    "        temp_hw = hw_t[:,key*1:key*1+1000]\n",
    "        total = cp.concatenate((cp.array(temp_hw[:limit]), cp.array(traces[:limit])), axis = 1)\n",
    "        cor = cp.corrcoef(total.T)\n",
    "        # print(cor.shape)\n",
    "        temp = []\n",
    "        for i in range(1000):\n",
    "            temp.append(cor[i][1000:])\n",
    "        temp = cp.array(temp)\n",
    "        cor_result.append(temp)\n",
    "    else:\n",
    "        pass\n",
    "        # temp_hw = hw_t[:,65000:].reshape(-1,1)\n",
    "        # total = cp.concatenate((cp.array(temp_hw[:limit]), cp.array(traces[:limit])), axis = 1)\n",
    "        # cor = cp.corrcoef(total.T)\n",
    "        # print(cor.shape)\n",
    "        # temp = cor[0][1:]\n",
    "        # temp = cp.array(temp)\n",
    "        # cor_result.append(temp)"
   ]
  },
  {
   "cell_type": "code",
   "execution_count": null,
   "id": "aa88420b",
   "metadata": {},
   "outputs": [],
   "source": [
    "cor_result = cp.array(cor_result)\n",
    "cor_result.shape"
   ]
  },
  {
   "cell_type": "code",
   "execution_count": null,
   "id": "6b5d3b40",
   "metadata": {},
   "outputs": [],
   "source": [
    "cor_result = cor_result.reshape(-1,600)\n",
    "print(cor_result.shape)"
   ]
  },
  {
   "cell_type": "code",
   "execution_count": null,
   "id": "a1c7eb16",
   "metadata": {},
   "outputs": [],
   "source": [
    "a"
   ]
  },
  {
   "cell_type": "code",
   "execution_count": null,
   "id": "c7739eca",
   "metadata": {},
   "outputs": [],
   "source": [
    "cor_result.shape"
   ]
  },
  {
   "cell_type": "code",
   "execution_count": null,
   "id": "e154022e",
   "metadata": {},
   "outputs": [],
   "source": [
    "# plt.figure(figsize=(30,20))\n",
    "\n",
    "# for i in range(65000):\n",
    "#     if i==1173:\n",
    "#         pass\n",
    "#     else:\n",
    "#         plt.plot(cor_result[i,:].get(),alpha=0.3, color = \"gray\")           \n",
    "# plt.plot(cor_result[1173].get(), label = \"1173\", color = \"red\")        \n",
    "# plt.legend()\n",
    "# plt.show()"
   ]
  },
  {
   "cell_type": "markdown",
   "id": "d4117704",
   "metadata": {},
   "source": [
    "위에서 실제 키에 해당하는 것이 1173이다.<br>\n",
    "실제 키에서는 대략적으로 110 ~ 140 까지에서 높은 상관 계수를 갖는 것을 볼 수 있다.<br>\n",
    "따라서, 이러한 범위에서 키와 유사하게 높은 상관 계수를 갖는 것을 찾아 보자.\n"
   ]
  },
  {
   "cell_type": "markdown",
   "id": "a9d99e7f",
   "metadata": {},
   "source": [
    "### 110:140 범위 중에서 상관 계수가 -0.8이상을 갖는 키값을 모두 뽑는다."
   ]
  },
  {
   "cell_type": "code",
   "execution_count": null,
   "id": "df433b2d",
   "metadata": {},
   "outputs": [],
   "source": [
    "print(cp.where(cp.nanmin(cor_result[:, 110:140], axis = 1) < -0.8))\n",
    "cor_min_reuslt = cp.where(cp.nanmin(cor_result[:, 110:140], axis = 1) < -0.8)[0]"
   ]
  },
  {
   "cell_type": "markdown",
   "id": "21b4aa9d",
   "metadata": {},
   "source": [
    "#### 110:140 범위 중에서 상관 계수가 -0.8 이상을 갖는 값들은 총 9개가 존재한다. 그 중에서 -0.9 이상을 갖는 값이 2개가 존재한다. 이러한 값에서도 실제 키 값이 더욱 높은 상관 계수를 갖는 것을 볼 수 있다."
   ]
  },
  {
   "cell_type": "code",
   "execution_count": null,
   "id": "f07da7a1",
   "metadata": {},
   "outputs": [],
   "source": [
    "cp.nanmin(cor_result[:, 110:140], axis = 1)[[ 1173,  4502,  7831, 11160, 14489, 17818, 21147, 24476, 27805]]"
   ]
  },
  {
   "cell_type": "markdown",
   "id": "597b210a",
   "metadata": {},
   "source": [
    "#### 위의 9개의 높은 상관 계수를 갖는 키값들을 그려본다. 모든 키와 비슷한 형태의 모양을 뛰는 것을 볼 수 있다."
   ]
  },
  {
   "cell_type": "code",
   "execution_count": null,
   "id": "4ee446a1",
   "metadata": {},
   "outputs": [],
   "source": [
    "cp.nanargmax(cp.nanmin(cor_result[:, 110:140], axis = 1))"
   ]
  },
  {
   "cell_type": "code",
   "execution_count": null,
   "id": "83e38bf3",
   "metadata": {},
   "outputs": [],
   "source": [
    "plt.figure(figsize=(30,18))\n",
    "\n",
    "for i in range(65000):\n",
    "    if i==1173:\n",
    "        pass\n",
    "    elif i in cor_min_reuslt:\n",
    "        plt.plot(cor_result[i,:].get(),alpha=0.3)           \n",
    "plt.plot(cor_result[1173].get(), label = \"1173\", color = \"red\")        \n",
    "plt.legend()\n",
    "plt.show()"
   ]
  },
  {
   "cell_type": "markdown",
   "id": "778b4035",
   "metadata": {},
   "source": [
    "#### 우리는 그 중에서도 상관 계수가 가장 높은 두 개의 가능한 키값을 통해서 뒤의 연산을 진행 해보도록 하겠다. 실제 키 값은 1173이고 두 번째로 상관 계수가 높은 키 값은 4502이다. 이 두개의 성향을 비교 분석해보자."
   ]
  },
  {
   "cell_type": "code",
   "execution_count": null,
   "id": "b7885d12",
   "metadata": {},
   "outputs": [],
   "source": [
    "plt.figure(figsize=(30,18))\n",
    "plt.plot(cor_result[1173].get())"
   ]
  },
  {
   "cell_type": "code",
   "execution_count": null,
   "id": "554d0208",
   "metadata": {},
   "outputs": [],
   "source": [
    "plt.figure(figsize=(30,18))\n",
    "plt.plot(cor_result[4502].get())"
   ]
  },
  {
   "cell_type": "code",
   "execution_count": null,
   "id": "44d7299e",
   "metadata": {},
   "outputs": [],
   "source": [
    "plt.figure(figsize=(30,18))\n",
    "plt.plot(cor_result[21370].get())"
   ]
  },
  {
   "cell_type": "markdown",
   "id": "6e448f31",
   "metadata": {},
   "source": [
    "#### 실제 키값과 유사한 상관 계수를 갖는 값과 상관 계수가 가장 작은 값에 있어서 HW 분포도는 거의 비슷한 형태를 뛰고 있다. 하지만 세밀한 값의 분포도에서 차이가 있는 것을 알 수 있다."
   ]
  },
  {
   "cell_type": "code",
   "execution_count": null,
   "id": "de7e4711",
   "metadata": {},
   "outputs": [],
   "source": [
    "fig, ax = plt.subplots(1,3,figsize = (20, 10))\n",
    "\n",
    "ax[0].hist(hw[1173], bins = 17)\n",
    "ax[0].set_title(\"1173\")\n",
    "ax[1].hist(hw[4502], bins = 17)\n",
    "ax[1].set_title(\"4502\")\n",
    "ax[2].hist(hw[21370], bins = 17)\n",
    "ax[2].set_title(\"21370\")"
   ]
  },
  {
   "cell_type": "code",
   "execution_count": null,
   "id": "45f5f1a2",
   "metadata": {},
   "outputs": [],
   "source": [
    "from collections import Counter\n",
    "\n",
    "print(Counter(hw[1173]))\n",
    "print()\n",
    "print(Counter(hw[4502]))\n",
    "print()\n",
    "print(Counter(hw[21370]))"
   ]
  },
  {
   "cell_type": "markdown",
   "id": "6ed9a1d6",
   "metadata": {},
   "source": [
    "#### 1173과 4502를 키라고 가정하고 그 다음 연산에 있어서 상관 계수를 구해본다."
   ]
  },
  {
   "cell_type": "code",
   "execution_count": null,
   "id": "7dc9e30a",
   "metadata": {},
   "outputs": [],
   "source": [
    "real_result = np.int16(np.zeros(shape=(1,100000)))\n",
    "fake_result = np.int16(np.zeros(shape=(1,100000)))\n",
    "\n",
    "real_result[0] = fast_fqmul(1173, b[:,1])\n",
    "real_result[0] = fast_fqmul(real_result[0], zeta[:,0])\n",
    "\n",
    "fake_result[0] = fast_fqmul(4502, b[:,1])\n",
    "fake_result[0] = fast_fqmul(fake_result[0], zeta[:,0])"
   ]
  },
  {
   "cell_type": "code",
   "execution_count": null,
   "id": "71ad4ed1",
   "metadata": {},
   "outputs": [],
   "source": [
    "real_hw = np.zeros(shape=(1,100000), dtype = np.int16)\n",
    "fake_hw = np.zeros(shape=(1,100000), dtype = np.int16)"
   ]
  },
  {
   "cell_type": "code",
   "execution_count": null,
   "id": "6566003f",
   "metadata": {},
   "outputs": [],
   "source": [
    "real_result[0]"
   ]
  },
  {
   "cell_type": "code",
   "execution_count": null,
   "id": "4bf8fa3a",
   "metadata": {},
   "outputs": [],
   "source": [
    "vf = np.vectorize(haming_weight)\n",
    "real_hw = vf(real_result[0])\n",
    "fake_hw = vf(fake_result[0])"
   ]
  },
  {
   "cell_type": "code",
   "execution_count": null,
   "id": "c8a49b0a",
   "metadata": {},
   "outputs": [],
   "source": [
    "real_hw = real_hw.reshape(-1, 1)\n",
    "fake_hw = fake_hw.reshape(-1, 1)"
   ]
  },
  {
   "cell_type": "code",
   "execution_count": null,
   "id": "351b4816",
   "metadata": {},
   "outputs": [],
   "source": [
    "total = cp.concatenate((cp.array(real_hw), cp.array(fake_hw), cp.array(traces)), axis=1)\n",
    "\n",
    "cor = cp.corrcoef(total.T)\n",
    "\n",
    "real_cor = cor[0,2:]\n",
    "fake_cor = cor[1,2:]"
   ]
  },
  {
   "cell_type": "markdown",
   "id": "a8fc8106",
   "metadata": {},
   "source": [
    "#### 1173과 4502에 해당하는 키 값이 다음 연산에서 동일한 상관 계수를 갖는 것을 볼 수 있다."
   ]
  },
  {
   "cell_type": "code",
   "execution_count": null,
   "id": "0371d2a4",
   "metadata": {},
   "outputs": [],
   "source": [
    "print(\"상관 계수가 첫 번째로 높은 값 : \", real_result[0][:25])\n",
    "print()\n",
    "print(\"상관 계수가 두 번째로 높은 값 : \", fake_result[0][:25])"
   ]
  },
  {
   "cell_type": "code",
   "execution_count": null,
   "id": "887102db",
   "metadata": {},
   "outputs": [],
   "source": [
    "plt.figure(figsize=(20,15))\n",
    "         \n",
    "plt.plot(real_cor.get(), label = \"1173\", color = \"blue\", alpha = 0.5)      \n",
    "plt.plot(fake_cor.get(), label = \"4502\", color = \"red\", alpha = 0.5)\n",
    "\n",
    "plt.legend()\n",
    "plt.show()"
   ]
  },
  {
   "cell_type": "markdown",
   "id": "f2df97d5",
   "metadata": {},
   "source": [
    "#### 다음으로 \"r[0] += fqmul(a[0], b[0])\" 연산에서 높은 상관 계수를 갖는 a[0]을 추측해 보자."
   ]
  },
  {
   "cell_type": "code",
   "execution_count": null,
   "id": "b311eb5e",
   "metadata": {},
   "outputs": [],
   "source": [
    "real_a = np.int16(np.zeros(shape=(0xFFFF,100000)))\n",
    "fake_a = np.int16(np.zeros(shape=(0xFFFF,100000)))\n",
    "\n",
    "vf = np.vectorize(haming_weight)\n",
    "b_0 = np.array(b[:, 0])\n",
    "\n",
    "for key in tqdm(range(0xFFFF)):\n",
    "    real_a[key] = fast_fqmul(key, b_0)\n",
    "    fake_a[key] = fast_fqmul(key, b_0)"
   ]
  },
  {
   "cell_type": "code",
   "execution_count": null,
   "id": "a86ff777",
   "metadata": {},
   "outputs": [],
   "source": [
    "for key in tqdm(range(0xFFFF)):\n",
    "    real_a[key] += real_result[0]\n",
    "    fake_a[key] += fake_result[0]"
   ]
  },
  {
   "cell_type": "code",
   "execution_count": null,
   "id": "09c3b10f",
   "metadata": {},
   "outputs": [],
   "source": [
    "real_a.shape"
   ]
  },
  {
   "cell_type": "code",
   "execution_count": null,
   "id": "28b905e5",
   "metadata": {},
   "outputs": [],
   "source": [
    "real_hw = np.zeros(shape=(0xFFFF,100000), dtype = np.int16)\n",
    "fake_hw = np.zeros(shape=(0xFFFF,100000), dtype = np.int16)"
   ]
  },
  {
   "cell_type": "code",
   "execution_count": null,
   "id": "cfd98a7a",
   "metadata": {},
   "outputs": [],
   "source": [
    "vf = cp.vectorize(haming_weight)\n",
    "\n",
    "for i in tqdm(range(50)):\n",
    "    re = cp.array(real_a[:,i*2000:i*2000+2000])\n",
    "    real_hw[:, i*2000:i*2000+2000] = vf(re).get()"
   ]
  },
  {
   "cell_type": "code",
   "execution_count": null,
   "id": "2a2c75b5",
   "metadata": {},
   "outputs": [],
   "source": [
    "for i in tqdm(range(50)):\n",
    "    re = cp.array(fake_a[:,i*2000:i*2000+2000])\n",
    "    fake_hw[:, i*2000:i*2000+2000] = vf(re).get()"
   ]
  },
  {
   "cell_type": "code",
   "execution_count": null,
   "id": "03b4ac00",
   "metadata": {},
   "outputs": [],
   "source": [
    "hw_t.shape"
   ]
  },
  {
   "cell_type": "code",
   "execution_count": null,
   "id": "edcdad32",
   "metadata": {},
   "outputs": [],
   "source": [
    "hw_t = real_hw.T\n",
    "\n",
    "cor_result = []\n",
    "\n",
    "trace_points = 600\n",
    "\n",
    "limit = 100000\n",
    "key_limit = 0xFFFF\n",
    "for key in tqdm(range(0,key_limit,500)):\n",
    "    if key <= 65000:\n",
    "        temp_hw = hw_t[:,key*1:key*1+500]\n",
    "        total = cp.concatenate((cp.array(temp_hw[:limit]), cp.array(traces[:limit])), axis = 1)\n",
    "        cor = cp.corrcoef(total.T)\n",
    "        print(cor.shape)\n",
    "        temp = []\n",
    "        for i in range(500):\n",
    "            temp.append(cor[i][500:])\n",
    "        temp = cp.array(temp)\n",
    "        cor_result.append(temp)\n",
    "    else:\n",
    "        pass\n",
    "        # temp_hw = hw_t[:,65000:].reshape(-1,1)\n",
    "        # total = cp.concatenate((cp.array(temp_hw[:limit]), cp.array(traces[:limit])), axis = 1)\n",
    "        # cor = cp.corrcoef(total.T)\n",
    "        # print(cor.shape)\n",
    "        # temp = cor[0][1:]\n",
    "        # temp = cp.array(temp)\n",
    "        # cor_result.append(temp)\n",
    "cor_result = cp.array(cor_result)\n",
    "cor_result.shape\n",
    "cor_result = cor_result.reshape(-1, trace_points)"
   ]
  },
  {
   "cell_type": "code",
   "execution_count": null,
   "id": "20b386ec",
   "metadata": {},
   "outputs": [],
   "source": [
    "cor_result = cp.array(cor_result)\n",
    "cor_result.shape\n",
    "cor_result = cor_result.reshape(-1, trace_points)"
   ]
  },
  {
   "cell_type": "code",
   "execution_count": null,
   "id": "45ed2bcb",
   "metadata": {},
   "outputs": [],
   "source": [
    "plt.figure(figsize=(30,20))\n",
    "\n",
    "for i in range(65000):\n",
    "    if i==2435:\n",
    "        pass\n",
    "    else:\n",
    "        plt.plot(cor_result[i,:].get(),alpha=0.3, color=\"gray\")\n",
    "plt.plot(cor_result[2435].get(), label = \"2435\", color = \"red\")        \n",
    "plt.legend()\n",
    "plt.show()"
   ]
  },
  {
   "cell_type": "markdown",
   "id": "f3f9928a",
   "metadata": {},
   "source": [
    "#### 실제키는 2435이다. 이때, 상관 계수가 -0.6 이상인 부분을 확인해 보자. 범위는 250 ~ 265라고 추정할 수 있다."
   ]
  },
  {
   "cell_type": "code",
   "execution_count": null,
   "id": "1465c47b",
   "metadata": {},
   "outputs": [],
   "source": [
    "cp.where(cor_result[2435] < -0.6)"
   ]
  },
  {
   "cell_type": "markdown",
   "id": "7f294ea9",
   "metadata": {},
   "source": [
    "#### 따라서, 250~265 사이에서 상관 계수가 -0.8 이상이 있는 값들을 뽑아 낸다. <br>해당하는 키가 총 8개 존재하는 것을 확인 할 수 있다. <br>이 중에서 실제 키가 가능한 것들을 조사해 보자.<br><br>이때도 실제 키 값을 갖고 있을 때 상관 계수가 가장 높은 것을 확인할 수 있다.<br>가능한 키는 2435와 5764인 것을 확인할 수 있다."
   ]
  },
  {
   "cell_type": "code",
   "execution_count": null,
   "id": "730f0163",
   "metadata": {},
   "outputs": [],
   "source": [
    "print(cp.where(cp.nanmin(cor_result[:,250:266], axis = 1) < -0.8))"
   ]
  },
  {
   "cell_type": "code",
   "execution_count": null,
   "id": "f4fdf9de",
   "metadata": {},
   "outputs": [],
   "source": [
    "cp.nanmin(cor_result[[ 2435,  5764,  9093, 12422, 54655, 57984, 61313, 64642], 250:266], axis=1)"
   ]
  },
  {
   "cell_type": "code",
   "execution_count": null,
   "id": "876467e4",
   "metadata": {},
   "outputs": [],
   "source": [
    "plt.figure(figsize=(30,20))\n",
    "\n",
    "plt.plot(cor_result[64642].get(), label=\"64642\", color = \"blue\", alpha = 0.5, linewidth = 4)\n",
    "plt.plot(cor_result[2435].get(), label = \"2435\", color = \"red\", alpha = 0.5, linewidth = 4)        \n",
    "plt.legend()\n",
    "plt.show()"
   ]
  },
  {
   "cell_type": "code",
   "execution_count": null,
   "id": "eb711f89",
   "metadata": {},
   "outputs": [],
   "source": [
    "hw_t = fake_hw.T\n",
    "\n",
    "cor_result = []\n",
    "\n",
    "trace_points = 600\n",
    "\n",
    "limit = 100000\n",
    "key_limit = 0xFFFF\n",
    "for key in tqdm(range(0,key_limit,500)):\n",
    "    if key <= 65000:\n",
    "        temp_hw = hw_t[:,key*1:key*1+500]\n",
    "        total = cp.concatenate((cp.array(temp_hw[:limit]), cp.array(traces[:limit])), axis = 1)\n",
    "        cor = cp.corrcoef(total.T)\n",
    "        print(cor.shape)\n",
    "        temp = []\n",
    "        for i in range(500):\n",
    "            temp.append(cor[i][500:])\n",
    "        temp = cp.array(temp)\n",
    "        cor_result.append(temp)\n",
    "    else:\n",
    "        pass\n",
    "        # temp_hw = hw_t[:,65000:].reshape(-1,1)\n",
    "        # total = cp.concatenate((cp.array(temp_hw[:limit]), cp.array(traces[:limit])), axis = 1)\n",
    "        # cor = cp.corrcoef(total.T)\n",
    "        # print(cor.shape)\n",
    "        # temp = cor[0][1:]\n",
    "        # temp = cp.array(temp)\n",
    "        # cor_result.append(temp)\n",
    "cor_result = cp.array(cor_result)\n",
    "cor_result.shape\n",
    "cor_result = cor_result.reshape(-1, trace_points)"
   ]
  },
  {
   "cell_type": "code",
   "execution_count": null,
   "id": "7cb92137",
   "metadata": {},
   "outputs": [],
   "source": [
    "cp.where(cor_result[2435] < -0.6)"
   ]
  },
  {
   "cell_type": "code",
   "execution_count": null,
   "id": "e199ddd2",
   "metadata": {},
   "outputs": [],
   "source": [
    "print(cp.where(cp.nanmin(cor_result[:,250:265], axis = 1) < -0.8))"
   ]
  },
  {
   "cell_type": "code",
   "execution_count": null,
   "id": "6d08a3f8",
   "metadata": {},
   "outputs": [],
   "source": [
    "cp.nanmin(cor_result[[ 2435,  5764,  9093, 12422, 54655, 57984, 61313, 64642], 250:266], axis=1)"
   ]
  },
  {
   "cell_type": "code",
   "execution_count": null,
   "id": "44858577",
   "metadata": {},
   "outputs": [],
   "source": [
    "plt.figure(figsize=(30,20))\n",
    "\n",
    "plt.plot(cor_result[64642].get(), label=\"64642\", color = \"blue\", alpha = 0.5, linewidth = 4)\n",
    "plt.plot(cor_result[2435].get(), label = \"2435\", color = \"red\", alpha = 0.5, linewidth = 4)        \n",
    "plt.legend()\n",
    "plt.show()"
   ]
  },
  {
   "cell_type": "markdown",
   "id": "e0f1c63f",
   "metadata": {},
   "source": [
    "위를 통해서도 상관 계수가 높은 것들이 많은 것을 볼 수 있다. 하지만 모든 경우에서 실제 키값을 갖는 경우에 높은 상관 계수를 갖는 것을 알 수 있다. 우리는 위의 과정을 통해서 a[1]의 키값으로는 1173과 4502이 가능한 것을 알 수 있고 a[0]의 키값으로는 2435와 64642이 되는 것을 알 수 있다."
   ]
  },
  {
   "cell_type": "markdown",
   "id": "2d71d5be",
   "metadata": {},
   "source": [
    "### r[1] 값을 구해서 상관 계수를 구해보자. a[0]은 2435와 64642를 사용하자."
   ]
  },
  {
   "cell_type": "code",
   "execution_count": null,
   "id": "d5cd52c2",
   "metadata": {},
   "outputs": [],
   "source": [
    "real_result = np.int16(np.zeros(shape=(1,100000)))\n",
    "fake_result = np.int16(np.zeros(shape=(1,100000)))\n",
    "\n",
    "# r[1]을 구하는 식이다.\n",
    "real_result[0] = fast_fqmul(2435, b[:,1])\n",
    "\n",
    "fake_result[0] = fast_fqmul(64642, b[:,1])"
   ]
  },
  {
   "cell_type": "code",
   "execution_count": null,
   "id": "26e972e4",
   "metadata": {},
   "outputs": [],
   "source": [
    "real_hw = np.zeros(shape=(1,100000), dtype = np.int16)\n",
    "fake_hw = np.zeros(shape=(1,100000), dtype = np.int16)\n",
    "\n",
    "vf = np.vectorize(haming_weight)\n",
    "real_hw = vf(real_result[0])\n",
    "fake_hw = vf(fake_result[0])"
   ]
  },
  {
   "cell_type": "code",
   "execution_count": null,
   "id": "6ce9a4ec",
   "metadata": {},
   "outputs": [],
   "source": [
    "real_hw = real_hw.reshape(-1, 1)\n",
    "fake_hw = fake_hw.reshape(-1, 1)"
   ]
  },
  {
   "cell_type": "code",
   "execution_count": null,
   "id": "ad46b638",
   "metadata": {},
   "outputs": [],
   "source": [
    "total = cp.concatenate((cp.array(real_hw), cp.array(fake_hw), cp.array(traces)), axis=1)\n",
    "\n",
    "cor = cp.corrcoef(total.T)\n",
    "\n",
    "real_cor = cor[0,2:]\n",
    "fake_cor = cor[1,2:]"
   ]
  },
  {
   "cell_type": "markdown",
   "id": "98768187",
   "metadata": {},
   "source": [
    "* r[0] += fqmul(a[0], b[0]);\n",
    "* r[1]  = fqmul(a[0], b[1]);\n",
    "\n",
    "위의 두 과정에서 a[0]이 사용되었고 우리는 2435와 64642 둘 중에서 키 값이 될 수 있다는 것을 확인했다. 그런데 두 상황에서 모두 2435의 상관 계수가 높기 때문에 이 값이 실제 키 값일 것이다."
   ]
  },
  {
   "cell_type": "code",
   "execution_count": null,
   "id": "84bd2926",
   "metadata": {},
   "outputs": [],
   "source": [
    "plt.figure(figsize=(20,15))\n",
    "\n",
    "# 두 계산 모두에서 2435의 키값이 더욱 높은 상관 계수를 갖는 것을 확인했다.\n",
    "plt.plot(real_cor.get(), label = \"2435\", color = \"red\", alpha = 0.5, linewidth = 4)      \n",
    "plt.plot(fake_cor.get(), label = \"64642\", color = \"blue\", alpha = 0.5, linewidth = 4)\n",
    "\n",
    "plt.legend()\n",
    "plt.show()"
   ]
  },
  {
   "cell_type": "markdown",
   "id": "36a191e6",
   "metadata": {},
   "source": [
    "### 2435를 키라고 가정하고 위에서 정하지 못한 a[1] 값을 정해 보자. a[1]은 1173, 4502 둘 중에서 하나이다."
   ]
  },
  {
   "cell_type": "code",
   "execution_count": null,
   "id": "0a03051a",
   "metadata": {},
   "outputs": [],
   "source": [
    "# 1173으로 가정한 것이 real_result가 된다.\n",
    "# fake_result는 4502로 가정한다.\n",
    "fake_result = real_result\n",
    "\n",
    "b_0 = np.array(b[:, 0])\n",
    "\n",
    "real_result += fast_fqmul(1173, b_0)\n",
    "fake_result += fast_fqmul(4502, b_0)"
   ]
  },
  {
   "cell_type": "code",
   "execution_count": null,
   "id": "069ba58e",
   "metadata": {},
   "outputs": [],
   "source": [
    "real_hw = np.zeros(shape=(1,100000), dtype = np.int16)\n",
    "fake_hw = np.zeros(shape=(1,100000), dtype = np.int16)\n",
    "\n",
    "vf = np.vectorize(haming_weight)\n",
    "real_hw = vf(real_result[0])\n",
    "fake_hw = vf(fake_result[0])"
   ]
  },
  {
   "cell_type": "code",
   "execution_count": null,
   "id": "7ccb2f02",
   "metadata": {},
   "outputs": [],
   "source": [
    "real_hw = real_hw.reshape(-1, 1)\n",
    "fake_hw = fake_hw.reshape(-1, 1)\n",
    "\n",
    "total = cp.concatenate((cp.array(real_hw), cp.array(fake_hw), cp.array(traces)), axis=1)\n",
    "\n",
    "cor = cp.corrcoef(total.T)\n",
    "\n",
    "real_cor = cor[0,2:]\n",
    "fake_cor = cor[1,2:]"
   ]
  },
  {
   "cell_type": "code",
   "execution_count": null,
   "id": "43beff11",
   "metadata": {},
   "outputs": [],
   "source": [
    "sum(real_hw == fake_hw)"
   ]
  },
  {
   "cell_type": "code",
   "execution_count": null,
   "id": "cbe56843",
   "metadata": {},
   "outputs": [],
   "source": [
    "plt.figure(figsize=(20,15))\n",
    "\n",
    "plt.plot(real_cor.get(), label = \"1173\", color = \"red\", alpha = 0.5, linewidth = 4)      \n",
    "plt.plot(fake_cor.get(), label = \"4502\", color = \"blue\", alpha = 0.5, linewidth = 4)\n",
    "\n",
    "plt.legend()\n",
    "plt.show()"
   ]
  },
  {
   "cell_type": "code",
   "execution_count": null,
   "id": "38eb708f",
   "metadata": {},
   "outputs": [],
   "source": [
    "print(cp.nanmin(real_cor))\n",
    "print(cp.nanmin(fake_cor))"
   ]
  },
  {
   "cell_type": "code",
   "execution_count": null,
   "id": "ff7efdae",
   "metadata": {},
   "outputs": [],
   "source": [
    "b_0 = np.array(b[:, 0])\n",
    "\n",
    "for key in tqdm(range(0xFFFF)):\n",
    "    real_a[key] = fast_fqmul(key, b_0)\n",
    "    fake_a[key] = fast_fqmul(key, b_0)"
   ]
  },
  {
   "cell_type": "markdown",
   "id": "001279b6",
   "metadata": {},
   "source": [
    "\n",
    "r[0]  = fqmul(np.int16(a[1]), np.int16(b[1]));\n",
    "    r[0]  = fqmul(r[0], zeta);\n",
    "    r[0] += fqmul(a[0], b[0]);`\n",
    "    r[1]  = fqmul(a[0], b[1]);\n",
    "    r[1] += fqmul(a[1], b[0]);"
   ]
  },
  {
   "cell_type": "code",
   "execution_count": null,
   "id": "5b3cf249",
   "metadata": {},
   "outputs": [],
   "source": []
  },
  {
   "cell_type": "code",
   "execution_count": null,
   "id": "303d9d28",
   "metadata": {},
   "outputs": [],
   "source": []
  },
  {
   "cell_type": "code",
   "execution_count": null,
   "id": "7b1abf24",
   "metadata": {},
   "outputs": [],
   "source": []
  },
  {
   "cell_type": "code",
   "execution_count": null,
   "id": "baca0ca3",
   "metadata": {},
   "outputs": [],
   "source": []
  }
 ],
 "metadata": {
  "kernelspec": {
   "display_name": "Python 3 (ipykernel)",
   "language": "python",
   "name": "python3"
  },
  "language_info": {
   "codemirror_mode": {
    "name": "ipython",
    "version": 3
   },
   "file_extension": ".py",
   "mimetype": "text/x-python",
   "name": "python",
   "nbconvert_exporter": "python",
   "pygments_lexer": "ipython3",
   "version": "3.7.9"
  }
 },
 "nbformat": 4,
 "nbformat_minor": 5
}
